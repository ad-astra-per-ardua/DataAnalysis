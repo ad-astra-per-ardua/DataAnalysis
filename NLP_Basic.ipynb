{
  "cells": [
    {
      "cell_type": "markdown",
      "metadata": {
        "id": "view-in-github",
        "colab_type": "text"
      },
      "source": [
        "<a href=\"https://colab.research.google.com/github/d982h8st7/DataAnalysis/blob/main/NLP_Basic.ipynb\" target=\"_parent\"><img src=\"https://colab.research.google.com/assets/colab-badge.svg\" alt=\"Open In Colab\"/></a>"
      ]
    },
    {
      "cell_type": "markdown",
      "metadata": {
        "id": "5_xrhBi2Qe5_"
      },
      "source": [
        "# **Runtime Setting**"
      ]
    },
    {
      "cell_type": "code",
      "execution_count": null,
      "metadata": {
        "id": "tDFn2lkYYYpv"
      },
      "outputs": [],
      "source": [
        "!pip install -q condacolab\n",
        "import condacolab\n",
        "condacolab.install()"
      ]
    },
    {
      "cell_type": "code",
      "execution_count": null,
      "metadata": {
        "id": "53RqIs7AZrAv"
      },
      "outputs": [],
      "source": [
        "condacolab.check()"
      ]
    },
    {
      "cell_type": "code",
      "execution_count": null,
      "metadata": {
        "id": "7SqiDiXRZ48g"
      },
      "outputs": [],
      "source": [
        "!conda install openmm\n",
        "!conda env update -n base -f environment.yml"
      ]
    },
    {
      "cell_type": "code",
      "execution_count": null,
      "metadata": {
        "id": "gHQ5T8Yed-Dd"
      },
      "outputs": [],
      "source": [
        "!pip install tensorflow\n",
        "!pip install keras\n",
        "!pip install scikit-learn\n",
        "!conda install gensim\n",
        "!conda install seaborn\n",
        "!conda install ipykernel\n",
        "!conda install nltk\n",
        "!conda install pandas\n",
        "!conda install scipy\n",
        "!conda install !conda install\n",
        "!pip install -U pandas-profiling\n",
        "!pip install konlpy\n",
        "!pip install jupyter"
      ]
    },
    {
      "cell_type": "code",
      "execution_count": null,
      "metadata": {
        "id": "bdoOpRObg27f"
      },
      "outputs": [],
      "source": [
        "import nltk\n",
        "nltk.download()"
      ]
    },
    {
      "cell_type": "code",
      "execution_count": null,
      "metadata": {
        "id": "VMOpDLTJhCwU"
      },
      "outputs": [],
      "source": [
        "!python --version\n",
        "!conda --version"
      ]
    },
    {
      "cell_type": "code",
      "execution_count": null,
      "metadata": {
        "id": "dyr_m9IThsXg"
      },
      "outputs": [],
      "source": [
        "from tensorflow.python.client import device_lib\n",
        "device_lib.list_local_devices()"
      ]
    },
    {
      "cell_type": "code",
      "execution_count": null,
      "metadata": {
        "id": "x7ewxDmth6mR"
      },
      "outputs": [],
      "source": [
        "import platform\n",
        "platform.platform()"
      ]
    },
    {
      "cell_type": "markdown",
      "metadata": {
        "id": "jeGj_2P5lbjS"
      },
      "source": [
        "# 텍스트 전처리(Text preprocessing)"
      ]
    },
    {
      "cell_type": "markdown",
      "metadata": {
        "id": "YAm5cGC7rYqP"
      },
      "source": [
        "## 02-01 토큰화 (Tokenization)"
      ]
    },
    {
      "cell_type": "markdown",
      "source": [
        "주어진 코퍼스(corpus) = 말뭉치 에서 토큰(token)말뭉치(corpus)의 최소 단위 이라 불리는 단위로 나누는 작업을 토큰화(tokenization)라고 함."
      ],
      "metadata": {
        "id": "dooFqiO7ZBgM"
      }
    },
    {
      "cell_type": "code",
      "execution_count": 12,
      "metadata": {
        "id": "U6HEeaiNqvsO"
      },
      "outputs": [],
      "source": [
        "from nltk.tokenize import word_tokenize\n",
        "from nltk.tokenize import WordPunctTokenizer\n",
        "from tensorflow.keras.preprocessing.text import text_to_word_sequence"
      ]
    },
    {
      "cell_type": "code",
      "source": [
        "print('단어 토큰화1 :',word_tokenize(\"Don't be fooled by the dark sounding name, Mr. Jone's Orphanage is as cheery as cheery goes for a pastry shop.\"))"
      ],
      "metadata": {
        "colab": {
          "base_uri": "https://localhost:8080/"
        },
        "id": "YaHjU0sXZDTP",
        "outputId": "b91fec1d-eb43-4d63-f7dd-4837d883f887"
      },
      "execution_count": 14,
      "outputs": [
        {
          "output_type": "stream",
          "name": "stdout",
          "text": [
            "단어 토큰화1 : ['Do', \"n't\", 'be', 'fooled', 'by', 'the', 'dark', 'sounding', 'name', ',', 'Mr.', 'Jone', \"'s\", 'Orphanage', 'is', 'as', 'cheery', 'as', 'cheery', 'goes', 'for', 'a', 'pastry', 'shop', '.']\n"
          ]
        }
      ]
    }
  ],
  "metadata": {
    "accelerator": "GPU",
    "colab": {
      "machine_shape": "hm",
      "provenance": [],
      "mount_file_id": "14-vSkCec5wuHxBVPY6oF-Z0Noukewz6C",
      "authorship_tag": "ABX9TyNlbU0ez5KSRMNa7ekBB/i6",
      "include_colab_link": true
    },
    "kernelspec": {
      "display_name": "Python 3",
      "name": "python3"
    },
    "language_info": {
      "name": "python"
    }
  },
  "nbformat": 4,
  "nbformat_minor": 0
}